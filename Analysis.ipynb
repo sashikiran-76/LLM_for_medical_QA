{
  "nbformat": 4,
  "nbformat_minor": 0,
  "metadata": {
    "colab": {
      "provenance": [],
      "mount_file_id": "1hQQXeJUUbyCtGVEPKBv_mJrnZ-3R0YKF",
      "authorship_tag": "ABX9TyPo7QeSV1ugtP5c5J78ynGq",
      "include_colab_link": true
    },
    "kernelspec": {
      "name": "python3",
      "display_name": "Python 3"
    },
    "language_info": {
      "name": "python"
    }
  },
  "cells": [
    {
      "cell_type": "markdown",
      "metadata": {
        "id": "view-in-github",
        "colab_type": "text"
      },
      "source": [
        "<a href=\"https://colab.research.google.com/github/sashikiran-76/LLM_for_medical_QA/blob/main/Analysis.ipynb\" target=\"_parent\"><img src=\"https://colab.research.google.com/assets/colab-badge.svg\" alt=\"Open In Colab\"/></a>"
      ]
    },
    {
      "cell_type": "code",
      "execution_count": null,
      "metadata": {
        "colab": {
          "base_uri": "https://localhost:8080/"
        },
        "id": "96gZ7oFL2_uV",
        "outputId": "ede9d710-f877-4505-ad5b-8338e15a5757"
      },
      "outputs": [
        {
          "output_type": "stream",
          "name": "stdout",
          "text": [
            "Drive already mounted at /content/drive; to attempt to forcibly remount, call drive.mount(\"/content/drive\", force_remount=True).\n"
          ]
        }
      ],
      "source": [
        "from google.colab import drive\n",
        "drive.mount('/content/drive')"
      ]
    },
    {
      "cell_type": "code",
      "source": [
        "from IPython.display import clear_output\n",
        "from sklearn.metrics import f1_score, accuracy_score, precision_score, recall_score, confusion_matrix\n",
        "import matplotlib.pyplot as plt\n",
        "import seaborn as sns\n"
      ],
      "metadata": {
        "id": "lyOmnvDiNACT"
      },
      "execution_count": null,
      "outputs": []
    },
    {
      "cell_type": "markdown",
      "source": [
        "# **Flan-XXL**"
      ],
      "metadata": {
        "id": "Qu-yN70gse0W"
      }
    },
    {
      "cell_type": "code",
      "source": [
        "import pandas as pd\n",
        "# del flan_results\n",
        "flan_results = pd.read_csv('/content/drive/MyDrive/Flan-xxl_results_new_17Jul.csv')"
      ],
      "metadata": {
        "id": "6CWvQ4kt3mZD"
      },
      "execution_count": null,
      "outputs": []
    },
    {
      "cell_type": "code",
      "source": [
        "flan_results.columns"
      ],
      "metadata": {
        "colab": {
          "base_uri": "https://localhost:8080/"
        },
        "id": "NFckPUHo3_P_",
        "outputId": "b7009ab9-b34a-453f-cd83-5ba781baadcf"
      },
      "execution_count": null,
      "outputs": [
        {
          "output_type": "execute_result",
          "data": {
            "text/plain": [
              "Index(['Unnamed: 0', '0'], dtype='object')"
            ]
          },
          "metadata": {},
          "execution_count": 19
        }
      ]
    },
    {
      "cell_type": "code",
      "source": [
        "qa_data = pd.read_json('/content/data_12Jun_edited.json')\n",
        "qa_data.head()"
      ],
      "metadata": {
        "colab": {
          "base_uri": "https://localhost:8080/",
          "height": 319
        },
        "id": "d00hL9UuQwog",
        "outputId": "0644c545-92fb-4d4b-ba10-da6291979d75"
      },
      "execution_count": null,
      "outputs": [
        {
          "output_type": "execute_result",
          "data": {
            "text/plain": [
              "                                            question  \\\n",
              "0  [1. A 65yo man presents with painless hematuri...   \n",
              "1  [2. A 74yo smoker presented to his GP with cou...   \n",
              "2  [3. A 44yo woman has lost weight over 12 month...   \n",
              "3  [4. A 79yo anorexic male complains of thirst a...   \n",
              "4  [5. A 64yo man has recently suffered from an M...   \n",
              "\n",
              "                                             options  \\\n",
              "0  [a. US Abdomen\\n, b. Flexible cystoscopy\\n, c....   \n",
              "1  [a. Pseudocushing syndrome\\n, b. Conns disease...   \n",
              "2  [a. Thyroid antibodies\\n, b. TFT\\n, c. ECG\\n, ...   \n",
              "3  [a. BPH\\n, b. Prostate carcinoma\\n, c. Chronic...   \n",
              "4  [a. Lofepramine\\n, b. Dosulepin\\n, c. Citalopr...   \n",
              "\n",
              "                                              answer  \n",
              "0  [Ans. The key is B. Flexible cystoscopy. [Pain...  \n",
              "1  [Ans. The key is C. Ectopic ACTH. [The patient...  \n",
              "2  [Ans. The key is B. TFT. [The patient has paro...  \n",
              "3         [Ans. The key is B. Prostate Carcinoma.\\n]  \n",
              "4  [Ans. The key is C. Citalopram. [Among SSRIs S...  "
            ],
            "text/html": [
              "\n",
              "\n",
              "  <div id=\"df-e74cbd6f-c33b-4b4f-ba73-aba04a54eac3\">\n",
              "    <div class=\"colab-df-container\">\n",
              "      <div>\n",
              "<style scoped>\n",
              "    .dataframe tbody tr th:only-of-type {\n",
              "        vertical-align: middle;\n",
              "    }\n",
              "\n",
              "    .dataframe tbody tr th {\n",
              "        vertical-align: top;\n",
              "    }\n",
              "\n",
              "    .dataframe thead th {\n",
              "        text-align: right;\n",
              "    }\n",
              "</style>\n",
              "<table border=\"1\" class=\"dataframe\">\n",
              "  <thead>\n",
              "    <tr style=\"text-align: right;\">\n",
              "      <th></th>\n",
              "      <th>question</th>\n",
              "      <th>options</th>\n",
              "      <th>answer</th>\n",
              "    </tr>\n",
              "  </thead>\n",
              "  <tbody>\n",
              "    <tr>\n",
              "      <th>0</th>\n",
              "      <td>[1. A 65yo man presents with painless hematuri...</td>\n",
              "      <td>[a. US Abdomen\\n, b. Flexible cystoscopy\\n, c....</td>\n",
              "      <td>[Ans. The key is B. Flexible cystoscopy. [Pain...</td>\n",
              "    </tr>\n",
              "    <tr>\n",
              "      <th>1</th>\n",
              "      <td>[2. A 74yo smoker presented to his GP with cou...</td>\n",
              "      <td>[a. Pseudocushing syndrome\\n, b. Conns disease...</td>\n",
              "      <td>[Ans. The key is C. Ectopic ACTH. [The patient...</td>\n",
              "    </tr>\n",
              "    <tr>\n",
              "      <th>2</th>\n",
              "      <td>[3. A 44yo woman has lost weight over 12 month...</td>\n",
              "      <td>[a. Thyroid antibodies\\n, b. TFT\\n, c. ECG\\n, ...</td>\n",
              "      <td>[Ans. The key is B. TFT. [The patient has paro...</td>\n",
              "    </tr>\n",
              "    <tr>\n",
              "      <th>3</th>\n",
              "      <td>[4. A 79yo anorexic male complains of thirst a...</td>\n",
              "      <td>[a. BPH\\n, b. Prostate carcinoma\\n, c. Chronic...</td>\n",
              "      <td>[Ans. The key is B. Prostate Carcinoma.\\n]</td>\n",
              "    </tr>\n",
              "    <tr>\n",
              "      <th>4</th>\n",
              "      <td>[5. A 64yo man has recently suffered from an M...</td>\n",
              "      <td>[a. Lofepramine\\n, b. Dosulepin\\n, c. Citalopr...</td>\n",
              "      <td>[Ans. The key is C. Citalopram. [Among SSRIs S...</td>\n",
              "    </tr>\n",
              "  </tbody>\n",
              "</table>\n",
              "</div>\n",
              "      <button class=\"colab-df-convert\" onclick=\"convertToInteractive('df-e74cbd6f-c33b-4b4f-ba73-aba04a54eac3')\"\n",
              "              title=\"Convert this dataframe to an interactive table.\"\n",
              "              style=\"display:none;\">\n",
              "\n",
              "  <svg xmlns=\"http://www.w3.org/2000/svg\" height=\"24px\"viewBox=\"0 0 24 24\"\n",
              "       width=\"24px\">\n",
              "    <path d=\"M0 0h24v24H0V0z\" fill=\"none\"/>\n",
              "    <path d=\"M18.56 5.44l.94 2.06.94-2.06 2.06-.94-2.06-.94-.94-2.06-.94 2.06-2.06.94zm-11 1L8.5 8.5l.94-2.06 2.06-.94-2.06-.94L8.5 2.5l-.94 2.06-2.06.94zm10 10l.94 2.06.94-2.06 2.06-.94-2.06-.94-.94-2.06-.94 2.06-2.06.94z\"/><path d=\"M17.41 7.96l-1.37-1.37c-.4-.4-.92-.59-1.43-.59-.52 0-1.04.2-1.43.59L10.3 9.45l-7.72 7.72c-.78.78-.78 2.05 0 2.83L4 21.41c.39.39.9.59 1.41.59.51 0 1.02-.2 1.41-.59l7.78-7.78 2.81-2.81c.8-.78.8-2.07 0-2.86zM5.41 20L4 18.59l7.72-7.72 1.47 1.35L5.41 20z\"/>\n",
              "  </svg>\n",
              "      </button>\n",
              "\n",
              "\n",
              "\n",
              "    <div id=\"df-966cf7d2-f841-4e0a-a5d9-71434d3498dd\">\n",
              "      <button class=\"colab-df-quickchart\" onclick=\"quickchart('df-966cf7d2-f841-4e0a-a5d9-71434d3498dd')\"\n",
              "              title=\"Suggest charts.\"\n",
              "              style=\"display:none;\">\n",
              "\n",
              "<svg xmlns=\"http://www.w3.org/2000/svg\" height=\"24px\"viewBox=\"0 0 24 24\"\n",
              "     width=\"24px\">\n",
              "    <g>\n",
              "        <path d=\"M19 3H5c-1.1 0-2 .9-2 2v14c0 1.1.9 2 2 2h14c1.1 0 2-.9 2-2V5c0-1.1-.9-2-2-2zM9 17H7v-7h2v7zm4 0h-2V7h2v10zm4 0h-2v-4h2v4z\"/>\n",
              "    </g>\n",
              "</svg>\n",
              "      </button>\n",
              "    </div>\n",
              "\n",
              "<style>\n",
              "  .colab-df-quickchart {\n",
              "    background-color: #E8F0FE;\n",
              "    border: none;\n",
              "    border-radius: 50%;\n",
              "    cursor: pointer;\n",
              "    display: none;\n",
              "    fill: #1967D2;\n",
              "    height: 32px;\n",
              "    padding: 0 0 0 0;\n",
              "    width: 32px;\n",
              "  }\n",
              "\n",
              "  .colab-df-quickchart:hover {\n",
              "    background-color: #E2EBFA;\n",
              "    box-shadow: 0px 1px 2px rgba(60, 64, 67, 0.3), 0px 1px 3px 1px rgba(60, 64, 67, 0.15);\n",
              "    fill: #174EA6;\n",
              "  }\n",
              "\n",
              "  [theme=dark] .colab-df-quickchart {\n",
              "    background-color: #3B4455;\n",
              "    fill: #D2E3FC;\n",
              "  }\n",
              "\n",
              "  [theme=dark] .colab-df-quickchart:hover {\n",
              "    background-color: #434B5C;\n",
              "    box-shadow: 0px 1px 3px 1px rgba(0, 0, 0, 0.15);\n",
              "    filter: drop-shadow(0px 1px 2px rgba(0, 0, 0, 0.3));\n",
              "    fill: #FFFFFF;\n",
              "  }\n",
              "</style>\n",
              "\n",
              "    <script>\n",
              "      async function quickchart(key) {\n",
              "        const containerElement = document.querySelector('#' + key);\n",
              "        const charts = await google.colab.kernel.invokeFunction(\n",
              "            'suggestCharts', [key], {});\n",
              "      }\n",
              "    </script>\n",
              "\n",
              "      <script>\n",
              "\n",
              "function displayQuickchartButton(domScope) {\n",
              "  let quickchartButtonEl =\n",
              "    domScope.querySelector('#df-966cf7d2-f841-4e0a-a5d9-71434d3498dd button.colab-df-quickchart');\n",
              "  quickchartButtonEl.style.display =\n",
              "    google.colab.kernel.accessAllowed ? 'block' : 'none';\n",
              "}\n",
              "\n",
              "        displayQuickchartButton(document);\n",
              "      </script>\n",
              "      <style>\n",
              "    .colab-df-container {\n",
              "      display:flex;\n",
              "      flex-wrap:wrap;\n",
              "      gap: 12px;\n",
              "    }\n",
              "\n",
              "    .colab-df-convert {\n",
              "      background-color: #E8F0FE;\n",
              "      border: none;\n",
              "      border-radius: 50%;\n",
              "      cursor: pointer;\n",
              "      display: none;\n",
              "      fill: #1967D2;\n",
              "      height: 32px;\n",
              "      padding: 0 0 0 0;\n",
              "      width: 32px;\n",
              "    }\n",
              "\n",
              "    .colab-df-convert:hover {\n",
              "      background-color: #E2EBFA;\n",
              "      box-shadow: 0px 1px 2px rgba(60, 64, 67, 0.3), 0px 1px 3px 1px rgba(60, 64, 67, 0.15);\n",
              "      fill: #174EA6;\n",
              "    }\n",
              "\n",
              "    [theme=dark] .colab-df-convert {\n",
              "      background-color: #3B4455;\n",
              "      fill: #D2E3FC;\n",
              "    }\n",
              "\n",
              "    [theme=dark] .colab-df-convert:hover {\n",
              "      background-color: #434B5C;\n",
              "      box-shadow: 0px 1px 3px 1px rgba(0, 0, 0, 0.15);\n",
              "      filter: drop-shadow(0px 1px 2px rgba(0, 0, 0, 0.3));\n",
              "      fill: #FFFFFF;\n",
              "    }\n",
              "  </style>\n",
              "\n",
              "      <script>\n",
              "        const buttonEl =\n",
              "          document.querySelector('#df-e74cbd6f-c33b-4b4f-ba73-aba04a54eac3 button.colab-df-convert');\n",
              "        buttonEl.style.display =\n",
              "          google.colab.kernel.accessAllowed ? 'block' : 'none';\n",
              "\n",
              "        async function convertToInteractive(key) {\n",
              "          const element = document.querySelector('#df-e74cbd6f-c33b-4b4f-ba73-aba04a54eac3');\n",
              "          const dataTable =\n",
              "            await google.colab.kernel.invokeFunction('convertToInteractive',\n",
              "                                                     [key], {});\n",
              "          if (!dataTable) return;\n",
              "\n",
              "          const docLinkHtml = 'Like what you see? Visit the ' +\n",
              "            '<a target=\"_blank\" href=https://colab.research.google.com/notebooks/data_table.ipynb>data table notebook</a>'\n",
              "            + ' to learn more about interactive tables.';\n",
              "          element.innerHTML = '';\n",
              "          dataTable['output_type'] = 'display_data';\n",
              "          await google.colab.output.renderOutput(dataTable, element);\n",
              "          const docLink = document.createElement('div');\n",
              "          docLink.innerHTML = docLinkHtml;\n",
              "          element.appendChild(docLink);\n",
              "        }\n",
              "      </script>\n",
              "    </div>\n",
              "  </div>\n"
            ]
          },
          "metadata": {},
          "execution_count": 20
        }
      ]
    },
    {
      "cell_type": "code",
      "source": [
        "qa_data['Predicted_answer'] = flan_results['0']\n",
        "qa_data.head()"
      ],
      "metadata": {
        "colab": {
          "base_uri": "https://localhost:8080/",
          "height": 336
        },
        "id": "BVLK-7jnKWUm",
        "outputId": "57905d1e-44b6-445d-9b4f-4c100594cb77"
      },
      "execution_count": null,
      "outputs": [
        {
          "output_type": "execute_result",
          "data": {
            "text/plain": [
              "                                            question  \\\n",
              "0  [1. A 65yo man presents with painless hematuri...   \n",
              "1  [2. A 74yo smoker presented to his GP with cou...   \n",
              "2  [3. A 44yo woman has lost weight over 12 month...   \n",
              "3  [4. A 79yo anorexic male complains of thirst a...   \n",
              "4  [5. A 64yo man has recently suffered from an M...   \n",
              "\n",
              "                                             options  \\\n",
              "0  [a. US Abdomen\\n, b. Flexible cystoscopy\\n, c....   \n",
              "1  [a. Pseudocushing syndrome\\n, b. Conns disease...   \n",
              "2  [a. Thyroid antibodies\\n, b. TFT\\n, c. ECG\\n, ...   \n",
              "3  [a. BPH\\n, b. Prostate carcinoma\\n, c. Chronic...   \n",
              "4  [a. Lofepramine\\n, b. Dosulepin\\n, c. Citalopr...   \n",
              "\n",
              "                                              answer          Predicted_answer  \n",
              "0  [Ans. The key is B. Flexible cystoscopy. [Pain...  {'generated_text': 'e.'}  \n",
              "1  [Ans. The key is C. Ectopic ACTH. [The patient...  {'generated_text': 'a.'}  \n",
              "2  [Ans. The key is B. TFT. [The patient has paro...  {'generated_text': 'd.'}  \n",
              "3         [Ans. The key is B. Prostate Carcinoma.\\n]  {'generated_text': 'd.'}  \n",
              "4  [Ans. The key is C. Citalopram. [Among SSRIs S...  {'generated_text': 'd.'}  "
            ],
            "text/html": [
              "\n",
              "\n",
              "  <div id=\"df-0b5e0d51-c84f-429d-bad5-54d6fbc4dadd\">\n",
              "    <div class=\"colab-df-container\">\n",
              "      <div>\n",
              "<style scoped>\n",
              "    .dataframe tbody tr th:only-of-type {\n",
              "        vertical-align: middle;\n",
              "    }\n",
              "\n",
              "    .dataframe tbody tr th {\n",
              "        vertical-align: top;\n",
              "    }\n",
              "\n",
              "    .dataframe thead th {\n",
              "        text-align: right;\n",
              "    }\n",
              "</style>\n",
              "<table border=\"1\" class=\"dataframe\">\n",
              "  <thead>\n",
              "    <tr style=\"text-align: right;\">\n",
              "      <th></th>\n",
              "      <th>question</th>\n",
              "      <th>options</th>\n",
              "      <th>answer</th>\n",
              "      <th>Predicted_answer</th>\n",
              "    </tr>\n",
              "  </thead>\n",
              "  <tbody>\n",
              "    <tr>\n",
              "      <th>0</th>\n",
              "      <td>[1. A 65yo man presents with painless hematuri...</td>\n",
              "      <td>[a. US Abdomen\\n, b. Flexible cystoscopy\\n, c....</td>\n",
              "      <td>[Ans. The key is B. Flexible cystoscopy. [Pain...</td>\n",
              "      <td>{'generated_text': 'e.'}</td>\n",
              "    </tr>\n",
              "    <tr>\n",
              "      <th>1</th>\n",
              "      <td>[2. A 74yo smoker presented to his GP with cou...</td>\n",
              "      <td>[a. Pseudocushing syndrome\\n, b. Conns disease...</td>\n",
              "      <td>[Ans. The key is C. Ectopic ACTH. [The patient...</td>\n",
              "      <td>{'generated_text': 'a.'}</td>\n",
              "    </tr>\n",
              "    <tr>\n",
              "      <th>2</th>\n",
              "      <td>[3. A 44yo woman has lost weight over 12 month...</td>\n",
              "      <td>[a. Thyroid antibodies\\n, b. TFT\\n, c. ECG\\n, ...</td>\n",
              "      <td>[Ans. The key is B. TFT. [The patient has paro...</td>\n",
              "      <td>{'generated_text': 'd.'}</td>\n",
              "    </tr>\n",
              "    <tr>\n",
              "      <th>3</th>\n",
              "      <td>[4. A 79yo anorexic male complains of thirst a...</td>\n",
              "      <td>[a. BPH\\n, b. Prostate carcinoma\\n, c. Chronic...</td>\n",
              "      <td>[Ans. The key is B. Prostate Carcinoma.\\n]</td>\n",
              "      <td>{'generated_text': 'd.'}</td>\n",
              "    </tr>\n",
              "    <tr>\n",
              "      <th>4</th>\n",
              "      <td>[5. A 64yo man has recently suffered from an M...</td>\n",
              "      <td>[a. Lofepramine\\n, b. Dosulepin\\n, c. Citalopr...</td>\n",
              "      <td>[Ans. The key is C. Citalopram. [Among SSRIs S...</td>\n",
              "      <td>{'generated_text': 'd.'}</td>\n",
              "    </tr>\n",
              "  </tbody>\n",
              "</table>\n",
              "</div>\n",
              "      <button class=\"colab-df-convert\" onclick=\"convertToInteractive('df-0b5e0d51-c84f-429d-bad5-54d6fbc4dadd')\"\n",
              "              title=\"Convert this dataframe to an interactive table.\"\n",
              "              style=\"display:none;\">\n",
              "\n",
              "  <svg xmlns=\"http://www.w3.org/2000/svg\" height=\"24px\"viewBox=\"0 0 24 24\"\n",
              "       width=\"24px\">\n",
              "    <path d=\"M0 0h24v24H0V0z\" fill=\"none\"/>\n",
              "    <path d=\"M18.56 5.44l.94 2.06.94-2.06 2.06-.94-2.06-.94-.94-2.06-.94 2.06-2.06.94zm-11 1L8.5 8.5l.94-2.06 2.06-.94-2.06-.94L8.5 2.5l-.94 2.06-2.06.94zm10 10l.94 2.06.94-2.06 2.06-.94-2.06-.94-.94-2.06-.94 2.06-2.06.94z\"/><path d=\"M17.41 7.96l-1.37-1.37c-.4-.4-.92-.59-1.43-.59-.52 0-1.04.2-1.43.59L10.3 9.45l-7.72 7.72c-.78.78-.78 2.05 0 2.83L4 21.41c.39.39.9.59 1.41.59.51 0 1.02-.2 1.41-.59l7.78-7.78 2.81-2.81c.8-.78.8-2.07 0-2.86zM5.41 20L4 18.59l7.72-7.72 1.47 1.35L5.41 20z\"/>\n",
              "  </svg>\n",
              "      </button>\n",
              "\n",
              "\n",
              "\n",
              "    <div id=\"df-216c8ddf-7bed-486a-b295-22a1ee0e8264\">\n",
              "      <button class=\"colab-df-quickchart\" onclick=\"quickchart('df-216c8ddf-7bed-486a-b295-22a1ee0e8264')\"\n",
              "              title=\"Suggest charts.\"\n",
              "              style=\"display:none;\">\n",
              "\n",
              "<svg xmlns=\"http://www.w3.org/2000/svg\" height=\"24px\"viewBox=\"0 0 24 24\"\n",
              "     width=\"24px\">\n",
              "    <g>\n",
              "        <path d=\"M19 3H5c-1.1 0-2 .9-2 2v14c0 1.1.9 2 2 2h14c1.1 0 2-.9 2-2V5c0-1.1-.9-2-2-2zM9 17H7v-7h2v7zm4 0h-2V7h2v10zm4 0h-2v-4h2v4z\"/>\n",
              "    </g>\n",
              "</svg>\n",
              "      </button>\n",
              "    </div>\n",
              "\n",
              "<style>\n",
              "  .colab-df-quickchart {\n",
              "    background-color: #E8F0FE;\n",
              "    border: none;\n",
              "    border-radius: 50%;\n",
              "    cursor: pointer;\n",
              "    display: none;\n",
              "    fill: #1967D2;\n",
              "    height: 32px;\n",
              "    padding: 0 0 0 0;\n",
              "    width: 32px;\n",
              "  }\n",
              "\n",
              "  .colab-df-quickchart:hover {\n",
              "    background-color: #E2EBFA;\n",
              "    box-shadow: 0px 1px 2px rgba(60, 64, 67, 0.3), 0px 1px 3px 1px rgba(60, 64, 67, 0.15);\n",
              "    fill: #174EA6;\n",
              "  }\n",
              "\n",
              "  [theme=dark] .colab-df-quickchart {\n",
              "    background-color: #3B4455;\n",
              "    fill: #D2E3FC;\n",
              "  }\n",
              "\n",
              "  [theme=dark] .colab-df-quickchart:hover {\n",
              "    background-color: #434B5C;\n",
              "    box-shadow: 0px 1px 3px 1px rgba(0, 0, 0, 0.15);\n",
              "    filter: drop-shadow(0px 1px 2px rgba(0, 0, 0, 0.3));\n",
              "    fill: #FFFFFF;\n",
              "  }\n",
              "</style>\n",
              "\n",
              "    <script>\n",
              "      async function quickchart(key) {\n",
              "        const containerElement = document.querySelector('#' + key);\n",
              "        const charts = await google.colab.kernel.invokeFunction(\n",
              "            'suggestCharts', [key], {});\n",
              "      }\n",
              "    </script>\n",
              "\n",
              "      <script>\n",
              "\n",
              "function displayQuickchartButton(domScope) {\n",
              "  let quickchartButtonEl =\n",
              "    domScope.querySelector('#df-216c8ddf-7bed-486a-b295-22a1ee0e8264 button.colab-df-quickchart');\n",
              "  quickchartButtonEl.style.display =\n",
              "    google.colab.kernel.accessAllowed ? 'block' : 'none';\n",
              "}\n",
              "\n",
              "        displayQuickchartButton(document);\n",
              "      </script>\n",
              "      <style>\n",
              "    .colab-df-container {\n",
              "      display:flex;\n",
              "      flex-wrap:wrap;\n",
              "      gap: 12px;\n",
              "    }\n",
              "\n",
              "    .colab-df-convert {\n",
              "      background-color: #E8F0FE;\n",
              "      border: none;\n",
              "      border-radius: 50%;\n",
              "      cursor: pointer;\n",
              "      display: none;\n",
              "      fill: #1967D2;\n",
              "      height: 32px;\n",
              "      padding: 0 0 0 0;\n",
              "      width: 32px;\n",
              "    }\n",
              "\n",
              "    .colab-df-convert:hover {\n",
              "      background-color: #E2EBFA;\n",
              "      box-shadow: 0px 1px 2px rgba(60, 64, 67, 0.3), 0px 1px 3px 1px rgba(60, 64, 67, 0.15);\n",
              "      fill: #174EA6;\n",
              "    }\n",
              "\n",
              "    [theme=dark] .colab-df-convert {\n",
              "      background-color: #3B4455;\n",
              "      fill: #D2E3FC;\n",
              "    }\n",
              "\n",
              "    [theme=dark] .colab-df-convert:hover {\n",
              "      background-color: #434B5C;\n",
              "      box-shadow: 0px 1px 3px 1px rgba(0, 0, 0, 0.15);\n",
              "      filter: drop-shadow(0px 1px 2px rgba(0, 0, 0, 0.3));\n",
              "      fill: #FFFFFF;\n",
              "    }\n",
              "  </style>\n",
              "\n",
              "      <script>\n",
              "        const buttonEl =\n",
              "          document.querySelector('#df-0b5e0d51-c84f-429d-bad5-54d6fbc4dadd button.colab-df-convert');\n",
              "        buttonEl.style.display =\n",
              "          google.colab.kernel.accessAllowed ? 'block' : 'none';\n",
              "\n",
              "        async function convertToInteractive(key) {\n",
              "          const element = document.querySelector('#df-0b5e0d51-c84f-429d-bad5-54d6fbc4dadd');\n",
              "          const dataTable =\n",
              "            await google.colab.kernel.invokeFunction('convertToInteractive',\n",
              "                                                     [key], {});\n",
              "          if (!dataTable) return;\n",
              "\n",
              "          const docLinkHtml = 'Like what you see? Visit the ' +\n",
              "            '<a target=\"_blank\" href=https://colab.research.google.com/notebooks/data_table.ipynb>data table notebook</a>'\n",
              "            + ' to learn more about interactive tables.';\n",
              "          element.innerHTML = '';\n",
              "          dataTable['output_type'] = 'display_data';\n",
              "          await google.colab.output.renderOutput(dataTable, element);\n",
              "          const docLink = document.createElement('div');\n",
              "          docLink.innerHTML = docLinkHtml;\n",
              "          element.appendChild(docLink);\n",
              "        }\n",
              "      </script>\n",
              "    </div>\n",
              "  </div>\n"
            ]
          },
          "metadata": {},
          "execution_count": 21
        }
      ]
    },
    {
      "cell_type": "code",
      "source": [
        "import re\n",
        "def get_expected_option_index(value):\n",
        "  # print (value)\n",
        "  if 'key is' in value:\n",
        "    first_split = re.split(r'key is', value)\n",
        "    alpha_index = re.split(r'\\.', first_split[1])\n",
        "    return_value = alpha_index[0]\n",
        "  elif 'Key is' in value:\n",
        "    first_split = re.split(r'Key is', value)\n",
        "    alpha_index = re.split(r'\\.', first_split[1])\n",
        "    return_value = alpha_index[0]\n",
        "  elif 'key not' in value:\n",
        "    first_split = re.split(r' and ', value)\n",
        "    alpha_index = first_split[0][-1], first_split[1][0]\n",
        "    return_value = alpha_index\n",
        "  else :\n",
        "    return_value = value\n",
        "  return return_value"
      ],
      "metadata": {
        "id": "NIFWIc-F9_8N"
      },
      "execution_count": null,
      "outputs": []
    },
    {
      "cell_type": "code",
      "source": [
        "qa_data['expected_option'] = qa_data['answer'].apply(lambda x:get_expected_option_index(str(x)))\n",
        "qa_data['expected_option'].value_counts()"
      ],
      "metadata": {
        "colab": {
          "base_uri": "https://localhost:8080/"
        },
        "id": "XGGYH_Ye-ssc",
        "outputId": "9eadadf0-17c0-4fa7-e813-3f45a23550af"
      },
      "execution_count": null,
      "outputs": [
        {
          "output_type": "execute_result",
          "data": {
            "text/plain": [
              " A                                                                                                                                                                                                                                                                                                               429\n",
              " B                                                                                                                                                                                                                                                                                                               398\n",
              " C                                                                                                                                                                                                                                                                                                               322\n",
              " D                                                                                                                                                                                                                                                                                                               271\n",
              " E                                                                                                                                                                                                                                                                                                               180\n",
              "                                                                                                                                                                                                                                                                                                                ... \n",
              " given!! Correct answer is D                                                                                                                                                                                                                                                                                       1\n",
              "['Ans. There are two keys A. BPH and C. Prostatic carcinoma. [There are no constitutional features of carcinoma. Bleeding is more common in BPH and occurs in a minority of cases and much less common in prostatic carcinoma. Features given are of prostatism only which favours the diagnosis of BPH].\\n']      1\n",
              " A CT                                                                                                                                                                                                                                                                                                              1\n",
              "['Ans. D. Temporomandibular joint pain. [Temporomandibular joint pain may cause pain in ear and teeth grinding is a recognized cause of this symptom].\\n']                                                                                                                                                         1\n",
              " E ABG                                                                                                                                                                                                                                                                                                             1\n",
              "Name: expected_option, Length: 79, dtype: int64"
            ]
          },
          "metadata": {},
          "execution_count": 23
        }
      ]
    },
    {
      "cell_type": "code",
      "source": [
        "import re\n",
        "def get_option_index(value):\n",
        "  alpha_index = re.split(r':', value)\n",
        "  # print(alpha_index)\n",
        "  if (len(alpha_index)>1):\n",
        "    return_value = alpha_index[1].split('.')\n",
        "    return_value = return_value[0].split(\"'\")[1]\n",
        "  else :\n",
        "    return_value = ''\n",
        "  # print (return_value)\n",
        "  return return_value"
      ],
      "metadata": {
        "id": "2lcXXYz34CQe"
      },
      "execution_count": null,
      "outputs": []
    },
    {
      "cell_type": "code",
      "source": [
        "qa_data['predicted_option'] = qa_data['Predicted_answer'].apply(lambda x:get_option_index(str(x)))\n",
        "# get_option_index(qa_data['Predicted_answer'][10])"
      ],
      "metadata": {
        "id": "5UJ4H3BU4HV7"
      },
      "execution_count": null,
      "outputs": []
    },
    {
      "cell_type": "code",
      "source": [
        "qa_data.head()"
      ],
      "metadata": {
        "colab": {
          "base_uri": "https://localhost:8080/",
          "height": 423
        },
        "id": "1L0s6tZ15r_x",
        "outputId": "98fdbad0-cbf6-4906-cc30-ae4b84a5fe8c"
      },
      "execution_count": null,
      "outputs": [
        {
          "output_type": "execute_result",
          "data": {
            "text/plain": [
              "                                            question  \\\n",
              "0  [1. A 65yo man presents with painless hematuri...   \n",
              "1  [2. A 74yo smoker presented to his GP with cou...   \n",
              "2  [3. A 44yo woman has lost weight over 12 month...   \n",
              "3  [4. A 79yo anorexic male complains of thirst a...   \n",
              "4  [5. A 64yo man has recently suffered from an M...   \n",
              "\n",
              "                                             options  \\\n",
              "0  [a. US Abdomen\\n, b. Flexible cystoscopy\\n, c....   \n",
              "1  [a. Pseudocushing syndrome\\n, b. Conns disease...   \n",
              "2  [a. Thyroid antibodies\\n, b. TFT\\n, c. ECG\\n, ...   \n",
              "3  [a. BPH\\n, b. Prostate carcinoma\\n, c. Chronic...   \n",
              "4  [a. Lofepramine\\n, b. Dosulepin\\n, c. Citalopr...   \n",
              "\n",
              "                                              answer  \\\n",
              "0  [Ans. The key is B. Flexible cystoscopy. [Pain...   \n",
              "1  [Ans. The key is C. Ectopic ACTH. [The patient...   \n",
              "2  [Ans. The key is B. TFT. [The patient has paro...   \n",
              "3         [Ans. The key is B. Prostate Carcinoma.\\n]   \n",
              "4  [Ans. The key is C. Citalopram. [Among SSRIs S...   \n",
              "\n",
              "           Predicted_answer expected_option predicted_option  \n",
              "0  {'generated_text': 'e.'}               B                e  \n",
              "1  {'generated_text': 'a.'}               C                a  \n",
              "2  {'generated_text': 'd.'}               B                d  \n",
              "3  {'generated_text': 'd.'}               B                d  \n",
              "4  {'generated_text': 'd.'}               C                d  "
            ],
            "text/html": [
              "\n",
              "\n",
              "  <div id=\"df-d6024ead-e451-4134-8e18-50236e0d39fd\">\n",
              "    <div class=\"colab-df-container\">\n",
              "      <div>\n",
              "<style scoped>\n",
              "    .dataframe tbody tr th:only-of-type {\n",
              "        vertical-align: middle;\n",
              "    }\n",
              "\n",
              "    .dataframe tbody tr th {\n",
              "        vertical-align: top;\n",
              "    }\n",
              "\n",
              "    .dataframe thead th {\n",
              "        text-align: right;\n",
              "    }\n",
              "</style>\n",
              "<table border=\"1\" class=\"dataframe\">\n",
              "  <thead>\n",
              "    <tr style=\"text-align: right;\">\n",
              "      <th></th>\n",
              "      <th>question</th>\n",
              "      <th>options</th>\n",
              "      <th>answer</th>\n",
              "      <th>Predicted_answer</th>\n",
              "      <th>expected_option</th>\n",
              "      <th>predicted_option</th>\n",
              "    </tr>\n",
              "  </thead>\n",
              "  <tbody>\n",
              "    <tr>\n",
              "      <th>0</th>\n",
              "      <td>[1. A 65yo man presents with painless hematuri...</td>\n",
              "      <td>[a. US Abdomen\\n, b. Flexible cystoscopy\\n, c....</td>\n",
              "      <td>[Ans. The key is B. Flexible cystoscopy. [Pain...</td>\n",
              "      <td>{'generated_text': 'e.'}</td>\n",
              "      <td>B</td>\n",
              "      <td>e</td>\n",
              "    </tr>\n",
              "    <tr>\n",
              "      <th>1</th>\n",
              "      <td>[2. A 74yo smoker presented to his GP with cou...</td>\n",
              "      <td>[a. Pseudocushing syndrome\\n, b. Conns disease...</td>\n",
              "      <td>[Ans. The key is C. Ectopic ACTH. [The patient...</td>\n",
              "      <td>{'generated_text': 'a.'}</td>\n",
              "      <td>C</td>\n",
              "      <td>a</td>\n",
              "    </tr>\n",
              "    <tr>\n",
              "      <th>2</th>\n",
              "      <td>[3. A 44yo woman has lost weight over 12 month...</td>\n",
              "      <td>[a. Thyroid antibodies\\n, b. TFT\\n, c. ECG\\n, ...</td>\n",
              "      <td>[Ans. The key is B. TFT. [The patient has paro...</td>\n",
              "      <td>{'generated_text': 'd.'}</td>\n",
              "      <td>B</td>\n",
              "      <td>d</td>\n",
              "    </tr>\n",
              "    <tr>\n",
              "      <th>3</th>\n",
              "      <td>[4. A 79yo anorexic male complains of thirst a...</td>\n",
              "      <td>[a. BPH\\n, b. Prostate carcinoma\\n, c. Chronic...</td>\n",
              "      <td>[Ans. The key is B. Prostate Carcinoma.\\n]</td>\n",
              "      <td>{'generated_text': 'd.'}</td>\n",
              "      <td>B</td>\n",
              "      <td>d</td>\n",
              "    </tr>\n",
              "    <tr>\n",
              "      <th>4</th>\n",
              "      <td>[5. A 64yo man has recently suffered from an M...</td>\n",
              "      <td>[a. Lofepramine\\n, b. Dosulepin\\n, c. Citalopr...</td>\n",
              "      <td>[Ans. The key is C. Citalopram. [Among SSRIs S...</td>\n",
              "      <td>{'generated_text': 'd.'}</td>\n",
              "      <td>C</td>\n",
              "      <td>d</td>\n",
              "    </tr>\n",
              "  </tbody>\n",
              "</table>\n",
              "</div>\n",
              "      <button class=\"colab-df-convert\" onclick=\"convertToInteractive('df-d6024ead-e451-4134-8e18-50236e0d39fd')\"\n",
              "              title=\"Convert this dataframe to an interactive table.\"\n",
              "              style=\"display:none;\">\n",
              "\n",
              "  <svg xmlns=\"http://www.w3.org/2000/svg\" height=\"24px\"viewBox=\"0 0 24 24\"\n",
              "       width=\"24px\">\n",
              "    <path d=\"M0 0h24v24H0V0z\" fill=\"none\"/>\n",
              "    <path d=\"M18.56 5.44l.94 2.06.94-2.06 2.06-.94-2.06-.94-.94-2.06-.94 2.06-2.06.94zm-11 1L8.5 8.5l.94-2.06 2.06-.94-2.06-.94L8.5 2.5l-.94 2.06-2.06.94zm10 10l.94 2.06.94-2.06 2.06-.94-2.06-.94-.94-2.06-.94 2.06-2.06.94z\"/><path d=\"M17.41 7.96l-1.37-1.37c-.4-.4-.92-.59-1.43-.59-.52 0-1.04.2-1.43.59L10.3 9.45l-7.72 7.72c-.78.78-.78 2.05 0 2.83L4 21.41c.39.39.9.59 1.41.59.51 0 1.02-.2 1.41-.59l7.78-7.78 2.81-2.81c.8-.78.8-2.07 0-2.86zM5.41 20L4 18.59l7.72-7.72 1.47 1.35L5.41 20z\"/>\n",
              "  </svg>\n",
              "      </button>\n",
              "\n",
              "\n",
              "\n",
              "    <div id=\"df-6fc43bf7-f646-44c0-86f3-32b58f077c97\">\n",
              "      <button class=\"colab-df-quickchart\" onclick=\"quickchart('df-6fc43bf7-f646-44c0-86f3-32b58f077c97')\"\n",
              "              title=\"Suggest charts.\"\n",
              "              style=\"display:none;\">\n",
              "\n",
              "<svg xmlns=\"http://www.w3.org/2000/svg\" height=\"24px\"viewBox=\"0 0 24 24\"\n",
              "     width=\"24px\">\n",
              "    <g>\n",
              "        <path d=\"M19 3H5c-1.1 0-2 .9-2 2v14c0 1.1.9 2 2 2h14c1.1 0 2-.9 2-2V5c0-1.1-.9-2-2-2zM9 17H7v-7h2v7zm4 0h-2V7h2v10zm4 0h-2v-4h2v4z\"/>\n",
              "    </g>\n",
              "</svg>\n",
              "      </button>\n",
              "    </div>\n",
              "\n",
              "<style>\n",
              "  .colab-df-quickchart {\n",
              "    background-color: #E8F0FE;\n",
              "    border: none;\n",
              "    border-radius: 50%;\n",
              "    cursor: pointer;\n",
              "    display: none;\n",
              "    fill: #1967D2;\n",
              "    height: 32px;\n",
              "    padding: 0 0 0 0;\n",
              "    width: 32px;\n",
              "  }\n",
              "\n",
              "  .colab-df-quickchart:hover {\n",
              "    background-color: #E2EBFA;\n",
              "    box-shadow: 0px 1px 2px rgba(60, 64, 67, 0.3), 0px 1px 3px 1px rgba(60, 64, 67, 0.15);\n",
              "    fill: #174EA6;\n",
              "  }\n",
              "\n",
              "  [theme=dark] .colab-df-quickchart {\n",
              "    background-color: #3B4455;\n",
              "    fill: #D2E3FC;\n",
              "  }\n",
              "\n",
              "  [theme=dark] .colab-df-quickchart:hover {\n",
              "    background-color: #434B5C;\n",
              "    box-shadow: 0px 1px 3px 1px rgba(0, 0, 0, 0.15);\n",
              "    filter: drop-shadow(0px 1px 2px rgba(0, 0, 0, 0.3));\n",
              "    fill: #FFFFFF;\n",
              "  }\n",
              "</style>\n",
              "\n",
              "    <script>\n",
              "      async function quickchart(key) {\n",
              "        const containerElement = document.querySelector('#' + key);\n",
              "        const charts = await google.colab.kernel.invokeFunction(\n",
              "            'suggestCharts', [key], {});\n",
              "      }\n",
              "    </script>\n",
              "\n",
              "      <script>\n",
              "\n",
              "function displayQuickchartButton(domScope) {\n",
              "  let quickchartButtonEl =\n",
              "    domScope.querySelector('#df-6fc43bf7-f646-44c0-86f3-32b58f077c97 button.colab-df-quickchart');\n",
              "  quickchartButtonEl.style.display =\n",
              "    google.colab.kernel.accessAllowed ? 'block' : 'none';\n",
              "}\n",
              "\n",
              "        displayQuickchartButton(document);\n",
              "      </script>\n",
              "      <style>\n",
              "    .colab-df-container {\n",
              "      display:flex;\n",
              "      flex-wrap:wrap;\n",
              "      gap: 12px;\n",
              "    }\n",
              "\n",
              "    .colab-df-convert {\n",
              "      background-color: #E8F0FE;\n",
              "      border: none;\n",
              "      border-radius: 50%;\n",
              "      cursor: pointer;\n",
              "      display: none;\n",
              "      fill: #1967D2;\n",
              "      height: 32px;\n",
              "      padding: 0 0 0 0;\n",
              "      width: 32px;\n",
              "    }\n",
              "\n",
              "    .colab-df-convert:hover {\n",
              "      background-color: #E2EBFA;\n",
              "      box-shadow: 0px 1px 2px rgba(60, 64, 67, 0.3), 0px 1px 3px 1px rgba(60, 64, 67, 0.15);\n",
              "      fill: #174EA6;\n",
              "    }\n",
              "\n",
              "    [theme=dark] .colab-df-convert {\n",
              "      background-color: #3B4455;\n",
              "      fill: #D2E3FC;\n",
              "    }\n",
              "\n",
              "    [theme=dark] .colab-df-convert:hover {\n",
              "      background-color: #434B5C;\n",
              "      box-shadow: 0px 1px 3px 1px rgba(0, 0, 0, 0.15);\n",
              "      filter: drop-shadow(0px 1px 2px rgba(0, 0, 0, 0.3));\n",
              "      fill: #FFFFFF;\n",
              "    }\n",
              "  </style>\n",
              "\n",
              "      <script>\n",
              "        const buttonEl =\n",
              "          document.querySelector('#df-d6024ead-e451-4134-8e18-50236e0d39fd button.colab-df-convert');\n",
              "        buttonEl.style.display =\n",
              "          google.colab.kernel.accessAllowed ? 'block' : 'none';\n",
              "\n",
              "        async function convertToInteractive(key) {\n",
              "          const element = document.querySelector('#df-d6024ead-e451-4134-8e18-50236e0d39fd');\n",
              "          const dataTable =\n",
              "            await google.colab.kernel.invokeFunction('convertToInteractive',\n",
              "                                                     [key], {});\n",
              "          if (!dataTable) return;\n",
              "\n",
              "          const docLinkHtml = 'Like what you see? Visit the ' +\n",
              "            '<a target=\"_blank\" href=https://colab.research.google.com/notebooks/data_table.ipynb>data table notebook</a>'\n",
              "            + ' to learn more about interactive tables.';\n",
              "          element.innerHTML = '';\n",
              "          dataTable['output_type'] = 'display_data';\n",
              "          await google.colab.output.renderOutput(dataTable, element);\n",
              "          const docLink = document.createElement('div');\n",
              "          docLink.innerHTML = docLinkHtml;\n",
              "          element.appendChild(docLink);\n",
              "        }\n",
              "      </script>\n",
              "    </div>\n",
              "  </div>\n"
            ]
          },
          "metadata": {},
          "execution_count": 26
        }
      ]
    },
    {
      "cell_type": "code",
      "source": [
        "qa_data['predicted_option'].head()"
      ],
      "metadata": {
        "colab": {
          "base_uri": "https://localhost:8080/"
        },
        "id": "S4a6c4Ck9Bne",
        "outputId": "00012642-2a97-4552-dad6-48bc11004900"
      },
      "execution_count": null,
      "outputs": [
        {
          "output_type": "execute_result",
          "data": {
            "text/plain": [
              "0    e\n",
              "1    a\n",
              "2    d\n",
              "3    d\n",
              "4    d\n",
              "Name: predicted_option, dtype: object"
            ]
          },
          "metadata": {},
          "execution_count": 27
        }
      ]
    },
    {
      "cell_type": "code",
      "source": [
        "# qa_data['predicted_option'][qa_data['predicted_option']=='D)'] = 'D'\n",
        "# qa_data['predicted_option'][qa_data['predicted_option']=='240 MG/DL'] = 'None'\n",
        "# qa_data['predicted_option'][qa_data['predicted_option']=='80A'] = 'None'\n",
        "# qa_data['predicted_option'][qa_data['predicted_option']=='70'] = ''\n",
        "# qa_data['predicted_option'][qa_data['predicted_option']=='3'] = ''\n",
        "# qa_data['predicted_option'][qa_data['predicted_option']==''] = 'None'\n",
        "\n",
        "# qa_data['predicted_option'] = qa_data['predicted_option'].apply(lambda x:str(x).upper())\n",
        "qa_data['predicted_option'].value_counts()"
      ],
      "metadata": {
        "colab": {
          "base_uri": "https://localhost:8080/"
        },
        "id": "-BdzuuuDB5gg",
        "outputId": "44304a7b-10a8-42af-cc80-6710a548ecb4"
      },
      "execution_count": null,
      "outputs": [
        {
          "output_type": "execute_result",
          "data": {
            "text/plain": [
              "D       454\n",
              "A       340\n",
              "C       322\n",
              "E       279\n",
              "B       273\n",
              "F        14\n",
              "J         7\n",
              "NONE      5\n",
              "G         4\n",
              "H         4\n",
              "I         3\n",
              "M         1\n",
              "Name: predicted_option, dtype: int64"
            ]
          },
          "metadata": {},
          "execution_count": 44
        }
      ]
    },
    {
      "cell_type": "code",
      "source": [
        "# temp = pd.read_csv('/content/Falcon_results_consolidated_24Jul.csv')\n",
        "# qa_data['expected_option'] = temp['expected_option']\n",
        "# qa_data['expected_option'][qa_data['expected_option']=='[]'] = 'None'\n",
        "# qa_data['expected_option'] = qa_data['expected_option'].apply(lambda x:str(x).upper())\n",
        "# qa_data['expected_option'] = qa_data['expected_option'].apply(lambda x:str(x).strip())\n",
        "\n",
        "qa_data['expected_option'].value_counts()"
      ],
      "metadata": {
        "colab": {
          "base_uri": "https://localhost:8080/"
        },
        "id": "_f9y1s7e3fr_",
        "outputId": "e51834e1-3364-4368-95b6-03407b71c344"
      },
      "execution_count": null,
      "outputs": [
        {
          "output_type": "execute_result",
          "data": {
            "text/plain": [
              "A       446\n",
              "B       413\n",
              "C       334\n",
              "D       283\n",
              "E       192\n",
              "F        11\n",
              "NONE      7\n",
              "G         5\n",
              "H         4\n",
              "J         4\n",
              "I         3\n",
              "C,D       1\n",
              "A,C       1\n",
              "US        1\n",
              "ALL       1\n",
              "Name: expected_option, dtype: int64"
            ]
          },
          "metadata": {},
          "execution_count": 43
        }
      ]
    },
    {
      "cell_type": "code",
      "source": [
        "qa_data['num_options'] = qa_data['options'].apply(lambda x:len(x))\n",
        "qa_data['num_options'].value_counts()"
      ],
      "metadata": {
        "colab": {
          "base_uri": "https://localhost:8080/"
        },
        "id": "lvGOi8Uw_W6z",
        "outputId": "41d689d9-7c11-497b-a4c1-6d73da2e1f9e"
      },
      "execution_count": null,
      "outputs": [
        {
          "output_type": "execute_result",
          "data": {
            "text/plain": [
              "5     1321\n",
              "4      261\n",
              "6       35\n",
              "3       32\n",
              "10      24\n",
              "8        9\n",
              "7        8\n",
              "11       6\n",
              "12       4\n",
              "9        3\n",
              "2        1\n",
              "13       1\n",
              "0        1\n",
              "Name: num_options, dtype: int64"
            ]
          },
          "metadata": {},
          "execution_count": 37
        }
      ]
    },
    {
      "cell_type": "markdown",
      "source": [
        "## Question length"
      ],
      "metadata": {
        "id": "JZIKQtSb9xcD"
      }
    },
    {
      "cell_type": "code",
      "source": [
        "cm = confusion_matrix(qa_data['expected_option'], qa_data['predicted_option'])\n",
        "\n",
        "fig = plt.figure(figsize = (8,8))\n",
        "ax = fig.add_subplot(111)\n",
        "sns.heatmap(cm, annot=True, fmt='g', ax=ax);  #annot=True to annotate cells, ftm='g' to disable scientific notation\n",
        "\n",
        "# labels, title and ticks\n",
        "ax.set_xlabel('Predicted labels')\n",
        "ax.set_ylabel('True labels')\n",
        "ax.set_title('Confusion Matrix')\n",
        "ax.xaxis.set_ticklabels(['A','B','C','D','E','F','G','H','I','J','NONE','C,D','A,C','US','ALL', ''])\n",
        "ax.yaxis.set_ticklabels(['A','B','C','D','E','F','G','H','I','J','NONE','C,D','A,C','US','ALL', '']);\n"
      ],
      "metadata": {
        "colab": {
          "base_uri": "https://localhost:8080/",
          "height": 718
        },
        "id": "QfVLq_VO5Bay",
        "outputId": "09828d40-52f4-49e0-ddee-a90fd0f78500"
      },
      "execution_count": null,
      "outputs": [
        {
          "output_type": "display_data",
          "data": {
            "text/plain": [
              "<Figure size 800x800 with 2 Axes>"
            ],
            "image/png": "[encoded data removed]"
          },
          "metadata": {}
        }
      ]
    },
    {
      "cell_type": "code",
      "source": [
        "from sklearn.metrics import accuracy_score\n",
        "print (accuracy_score(qa_data['expected_option'], qa_data['predicted_option']))\n"
      ],
      "metadata": {
        "colab": {
          "base_uri": "https://localhost:8080/"
        },
        "id": "Z7-FG1J78ZSM",
        "outputId": "df6aff95-bdad-46b6-89ff-0e5ce3a1197a"
      },
      "execution_count": null,
      "outputs": [
        {
          "output_type": "stream",
          "name": "stdout",
          "text": [
            "0.3593200468933177\n"
          ]
        }
      ]
    },
    {
      "cell_type": "code",
      "source": [
        "qa_data['question_length'] = qa_data['question'].apply(lambda x:len(x))\n",
        "qa_data['question_length'].value_counts()"
      ],
      "metadata": {
        "id": "3vU62q2h78co",
        "colab": {
          "base_uri": "https://localhost:8080/"
        },
        "outputId": "8b93ee33-8f58-4506-a529-f5d94d8a6aa3"
      },
      "execution_count": null,
      "outputs": [
        {
          "output_type": "execute_result",
          "data": {
            "text/plain": [
              "2     717\n",
              "1     466\n",
              "3     411\n",
              "4      79\n",
              "5      22\n",
              "6       3\n",
              "7       2\n",
              "8       2\n",
              "11      1\n",
              "10      1\n",
              "9       1\n",
              "0       1\n",
              "Name: question_length, dtype: int64"
            ]
          },
          "metadata": {},
          "execution_count": 76
        }
      ]
    },
    {
      "cell_type": "code",
      "source": [
        "plt.hist(qa_data['question_length'][qa_data['predicted_option']!=qa_data['expected_option']])\n",
        "plt.hist(qa_data['question_length'][qa_data['predicted_option']==qa_data['expected_option']])\n",
        "labels = ['not equal', 'equal']\n",
        "plt.legend(labels)"
      ],
      "metadata": {
        "colab": {
          "base_uri": "https://localhost:8080/",
          "height": 447
        },
        "id": "cZxJeyEI8mWy",
        "outputId": "852b1cc6-d9b1-4cde-ae4b-9e089dc7b7aa"
      },
      "execution_count": null,
      "outputs": [
        {
          "output_type": "execute_result",
          "data": {
            "text/plain": [
              "<matplotlib.legend.Legend at 0x7b00c59836d0>"
            ]
          },
          "metadata": {},
          "execution_count": 62
        },
        {
          "output_type": "display_data",
          "data": {
            "text/plain": [
              "<Figure size 640x480 with 1 Axes>"
            ],
            "image/png": "[encoded data removed]"
          },
          "metadata": {}
        }
      ]
    },
    {
      "cell_type": "code",
      "source": [
        "qa_data.to_csv('FlanXXL_26thJul.csv')"
      ],
      "metadata": {
        "id": "aUav3F6OhXfw"
      },
      "execution_count": null,
      "outputs": []
    },
    {
      "cell_type": "markdown",
      "source": [
        "# **Falcon-7b**"
      ],
      "metadata": {
        "id": "UmakiVKtspUP"
      }
    },
    {
      "cell_type": "code",
      "source": [
        "import pandas as pd"
      ],
      "metadata": {
        "id": "mhoFAVSeyPCq"
      },
      "execution_count": null,
      "outputs": []
    },
    {
      "cell_type": "code",
      "source": [
        "# del falcon_results\n",
        "falcon_results = pd.read_csv('/content/drive/MyDrive/Falcon_results_25Jul.csv')\n",
        "falcon_results.shape"
      ],
      "metadata": {
        "id": "FB1W9txI8502",
        "colab": {
          "base_uri": "https://localhost:8080/"
        },
        "outputId": "c8f31cb6-9cd7-412c-beb8-4d866a3fa88f"
      },
      "execution_count": null,
      "outputs": [
        {
          "output_type": "execute_result",
          "data": {
            "text/plain": [
              "(1706, 8)"
            ]
          },
          "metadata": {},
          "execution_count": 47
        }
      ]
    },
    {
      "cell_type": "code",
      "source": [
        "temp = pd.read_csv('/content/Falcon_results_consolidated_24Jul.csv')\n",
        "falcon_results['expected_option'] = temp['expected_option']\n",
        "falcon_results['expected_option'][falcon_results['expected_option']=='[]'] = 'NONE'\n",
        "falcon_results['expected_option'] = falcon_results['expected_option'].apply(lambda x:str(x).upper())\n",
        "falcon_results['expected_option'] = falcon_results['expected_option'].apply(lambda x:str(x).strip())\n",
        "\n",
        "falcon_results['expected_option'].value_counts()"
      ],
      "metadata": {
        "colab": {
          "base_uri": "https://localhost:8080/"
        },
        "id": "pEddN_freZwx",
        "outputId": "0f8d32e0-384f-4efc-92c6-29bd0b61edb7"
      },
      "execution_count": null,
      "outputs": [
        {
          "output_type": "stream",
          "name": "stderr",
          "text": [
            "<ipython-input-54-ab4cb53b88a6>:3: SettingWithCopyWarning: \n",
            "A value is trying to be set on a copy of a slice from a DataFrame\n",
            "\n",
            "See the caveats in the documentation: https://pandas.pydata.org/pandas-docs/stable/user_guide/indexing.html#returning-a-view-versus-a-copy\n",
            "  falcon_results['expected_option'][falcon_results['expected_option']=='[]'] = 'NONE'\n"
          ]
        },
        {
          "output_type": "execute_result",
          "data": {
            "text/plain": [
              "A       446\n",
              "B       413\n",
              "C       334\n",
              "D       283\n",
              "E       192\n",
              "F        11\n",
              "NONE      7\n",
              "G         5\n",
              "H         4\n",
              "J         4\n",
              "I         3\n",
              "C,D       1\n",
              "A,C       1\n",
              "US        1\n",
              "ALL       1\n",
              "Name: expected_option, dtype: int64"
            ]
          },
          "metadata": {},
          "execution_count": 54
        }
      ]
    },
    {
      "cell_type": "code",
      "source": [
        "# import re\n",
        "# def context(result, question, options):\n",
        "#   result = result.split(':')[1]\n",
        "#   result = result.replace('\\\\n',' ')\n",
        "#   question = [x.replace('\\n','') for x in question]\n",
        "#   question = ' '.join(question)\n",
        "#   question = ((re.split(r'\\d\\.', str(question)))[1])\n",
        "#   context_var = result.replace(question, '')\n",
        "#   options = [x.replace('\\n','') for x in options]\n",
        "#   options = ' '.join(options)\n",
        "#   context_var = (context_var.replace(r\"\\n\",' ')).rstrip('}')\n",
        "#   result_term = ((context_var.replace(str(options), ''))).lstrip(\"' \").rstrip(\"'\")\n",
        "#   return result_term"
      ],
      "metadata": {
        "id": "qsvwJnbf7k3x"
      },
      "execution_count": null,
      "outputs": []
    },
    {
      "cell_type": "code",
      "source": [
        "def falcon_option(gen_text):\n",
        "  gen_text = gen_text.replace('\\\\n',' ')\n",
        "  gen_text = gen_text.split(':')\n",
        "  gen_text = ''.join(gen_text)\n",
        "  answer = gen_text.split('The correct answer is ')[1]\n",
        "  answer = answer.replace(\"'\",'')\n",
        "  option = re.split('\\. ', answer)[0]\n",
        "  return answer, option"
      ],
      "metadata": {
        "id": "nMuxJ09agxcf"
      },
      "execution_count": null,
      "outputs": []
    },
    {
      "cell_type": "code",
      "source": [
        "# options_list,ans_list  = [], []\n",
        "for i,row in falcon_results.iloc[1369:].iterrows():\n",
        "  ans_value, ans_opt = falcon_option(row['Falcon_25Jul'])\n",
        "  ans_list.append(ans_value)\n",
        "  options_list.append(ans_opt)\n",
        "  # print(temp_value)\n",
        "print (len(options_list), len(ans_list))"
      ],
      "metadata": {
        "colab": {
          "base_uri": "https://localhost:8080/"
        },
        "id": "80yn-eBNEmB2",
        "outputId": "52877e9c-504b-4faa-b92c-23f274742309"
      },
      "execution_count": null,
      "outputs": [
        {
          "output_type": "stream",
          "name": "stdout",
          "text": [
            "1705 1705\n"
          ]
        }
      ]
    },
    {
      "cell_type": "code",
      "source": [
        "falcon_results['falcon_ans'] = ''\n",
        "falcon_results['falcon_ans'].iloc[:1368] = ans_list[:1368]\n",
        "falcon_results['falcon_ans'].iloc[1368] = ''\n",
        "falcon_results['falcon_ans'].iloc[1369:] = ans_list[1368:]\n",
        "\n",
        "falcon_results['falcon_option'] = ''\n",
        "falcon_results['falcon_option'].iloc[:1368] = options_list[:1368]\n",
        "falcon_results['falcon_option'].iloc[1368] = ''\n",
        "falcon_results['falcon_option'].iloc[1369:] = options_list[1368:]\n",
        "\n"
      ],
      "metadata": {
        "colab": {
          "base_uri": "https://localhost:8080/"
        },
        "id": "trcgtGKLOKUK",
        "outputId": "16fdda1e-208c-4cd1-cba1-48bc578b2e01"
      },
      "execution_count": null,
      "outputs": [
        {
          "output_type": "stream",
          "name": "stderr",
          "text": [
            "<ipython-input-58-731c3aa8abd6>:2: SettingWithCopyWarning: \n",
            "A value is trying to be set on a copy of a slice from a DataFrame\n",
            "\n",
            "See the caveats in the documentation: https://pandas.pydata.org/pandas-docs/stable/user_guide/indexing.html#returning-a-view-versus-a-copy\n",
            "  falcon_results['falcon_ans'].iloc[:1368] = ans_list[:1368]\n",
            "<ipython-input-58-731c3aa8abd6>:3: SettingWithCopyWarning: \n",
            "A value is trying to be set on a copy of a slice from a DataFrame\n",
            "\n",
            "See the caveats in the documentation: https://pandas.pydata.org/pandas-docs/stable/user_guide/indexing.html#returning-a-view-versus-a-copy\n",
            "  falcon_results['falcon_ans'].iloc[1368] = ''\n",
            "<ipython-input-58-731c3aa8abd6>:4: SettingWithCopyWarning: \n",
            "A value is trying to be set on a copy of a slice from a DataFrame\n",
            "\n",
            "See the caveats in the documentation: https://pandas.pydata.org/pandas-docs/stable/user_guide/indexing.html#returning-a-view-versus-a-copy\n",
            "  falcon_results['falcon_ans'].iloc[1369:] = ans_list[1368:]\n",
            "<ipython-input-58-731c3aa8abd6>:7: SettingWithCopyWarning: \n",
            "A value is trying to be set on a copy of a slice from a DataFrame\n",
            "\n",
            "See the caveats in the documentation: https://pandas.pydata.org/pandas-docs/stable/user_guide/indexing.html#returning-a-view-versus-a-copy\n",
            "  falcon_results['falcon_option'].iloc[:1368] = options_list[:1368]\n",
            "<ipython-input-58-731c3aa8abd6>:8: SettingWithCopyWarning: \n",
            "A value is trying to be set on a copy of a slice from a DataFrame\n",
            "\n",
            "See the caveats in the documentation: https://pandas.pydata.org/pandas-docs/stable/user_guide/indexing.html#returning-a-view-versus-a-copy\n",
            "  falcon_results['falcon_option'].iloc[1368] = ''\n",
            "<ipython-input-58-731c3aa8abd6>:9: SettingWithCopyWarning: \n",
            "A value is trying to be set on a copy of a slice from a DataFrame\n",
            "\n",
            "See the caveats in the documentation: https://pandas.pydata.org/pandas-docs/stable/user_guide/indexing.html#returning-a-view-versus-a-copy\n",
            "  falcon_results['falcon_option'].iloc[1369:] = options_list[1368:]\n"
          ]
        }
      ]
    },
    {
      "cell_type": "code",
      "source": [
        "falcon_results['falcon_option'] = falcon_results['falcon_option'].apply(lambda x:x.upper())\n",
        "falcon_results['falcon_option'][falcon_results['falcon_option']==''] = 'None'\n",
        "falcon_results['falcon_option'][falcon_results['falcon_option']=='OPTION D'] = 'D'\n",
        "falcon_results['falcon_option'][falcon_results['falcon_option']=='F.\"}]'] = 'F'\n",
        "falcon_results['falcon_option'] = falcon_results['falcon_option'].apply(lambda x:x.upper())\n",
        "falcon_results['falcon_option'].value_counts()"
      ],
      "metadata": {
        "colab": {
          "base_uri": "https://localhost:8080/"
        },
        "id": "7oxnQmSxXqhO",
        "outputId": "6d62acbe-373d-4e8f-b48e-5ebe1327d2fc"
      },
      "execution_count": null,
      "outputs": [
        {
          "output_type": "stream",
          "name": "stderr",
          "text": [
            "<ipython-input-61-cbdc156d7e1e>:2: SettingWithCopyWarning: \n",
            "A value is trying to be set on a copy of a slice from a DataFrame\n",
            "\n",
            "See the caveats in the documentation: https://pandas.pydata.org/pandas-docs/stable/user_guide/indexing.html#returning-a-view-versus-a-copy\n",
            "  falcon_results['falcon_option'][falcon_results['falcon_option']==''] = 'None'\n",
            "<ipython-input-61-cbdc156d7e1e>:3: SettingWithCopyWarning: \n",
            "A value is trying to be set on a copy of a slice from a DataFrame\n",
            "\n",
            "See the caveats in the documentation: https://pandas.pydata.org/pandas-docs/stable/user_guide/indexing.html#returning-a-view-versus-a-copy\n",
            "  falcon_results['falcon_option'][falcon_results['falcon_option']=='OPTION D'] = 'D'\n",
            "<ipython-input-61-cbdc156d7e1e>:4: SettingWithCopyWarning: \n",
            "A value is trying to be set on a copy of a slice from a DataFrame\n",
            "\n",
            "See the caveats in the documentation: https://pandas.pydata.org/pandas-docs/stable/user_guide/indexing.html#returning-a-view-versus-a-copy\n",
            "  falcon_results['falcon_option'][falcon_results['falcon_option']=='F.\"}]'] = 'F'\n"
          ]
        },
        {
          "output_type": "execute_result",
          "data": {
            "text/plain": [
              "C       974\n",
              "D       506\n",
              "B       158\n",
              "E        49\n",
              "F         9\n",
              "A         7\n",
              "NONE      1\n",
              "J         1\n",
              "H         1\n",
              "Name: falcon_option, dtype: int64"
            ]
          },
          "metadata": {},
          "execution_count": 61
        }
      ]
    },
    {
      "cell_type": "code",
      "source": [
        "falcon_results['expected_option'].value_counts()"
      ],
      "metadata": {
        "colab": {
          "base_uri": "https://localhost:8080/"
        },
        "id": "FXfXcqKbT3Jk",
        "outputId": "25f3088d-cd5a-441d-98fb-8422c5e36f0a"
      },
      "execution_count": null,
      "outputs": [
        {
          "output_type": "execute_result",
          "data": {
            "text/plain": [
              "A       446\n",
              "B       413\n",
              "C       334\n",
              "D       283\n",
              "E       192\n",
              "F        11\n",
              "NONE      7\n",
              "G         5\n",
              "H         4\n",
              "J         4\n",
              "I         3\n",
              "C,D       1\n",
              "A,C       1\n",
              "US        1\n",
              "ALL       1\n",
              "Name: expected_option, dtype: int64"
            ]
          },
          "metadata": {},
          "execution_count": 62
        }
      ]
    },
    {
      "cell_type": "code",
      "source": [
        "from sklearn.metrics import accuracy_score\n",
        "print (accuracy_score(falcon_results['expected_option'], falcon_results['falcon_option']))"
      ],
      "metadata": {
        "colab": {
          "base_uri": "https://localhost:8080/"
        },
        "id": "lt6LLjMsPitJ",
        "outputId": "abe5330b-5a97-4a2f-e6df-b959aaf3a4b8"
      },
      "execution_count": null,
      "outputs": [
        {
          "output_type": "stream",
          "name": "stdout",
          "text": [
            "0.20691676436107856\n"
          ]
        }
      ]
    },
    {
      "cell_type": "code",
      "source": [
        "cm = confusion_matrix(falcon_results['expected_option'], falcon_results['falcon_option'])\n",
        "\n",
        "fig = plt.figure(figsize = (8,8))\n",
        "ax = fig.add_subplot(111)\n",
        "sns.heatmap(cm, annot=True, fmt='g', ax=ax);  #annot=True to annotate cells, ftm='g' to disable scientific notation\n",
        "\n",
        "# labels, title and ticks\n",
        "ax.set_xlabel('Predicted labels')\n",
        "ax.set_ylabel('True labels')\n",
        "ax.set_title('Confusion Matrix')\n",
        "ax.xaxis.set_ticklabels(['A','B','C','D','E','F','G','H','I','J','NONE','C,D','A,C','US','ALL'])\n",
        "ax.yaxis.set_ticklabels(['A','B','C','D','E','F','G','H','I','J','NONE','C,D','A,C','US','ALL']);\n",
        "\n"
      ],
      "metadata": {
        "colab": {
          "base_uri": "https://localhost:8080/",
          "height": 718
        },
        "id": "rw5AjMCTYUj4",
        "outputId": "05f79552-147c-401d-87a0-983a9c1cde4a"
      },
      "execution_count": null,
      "outputs": [
        {
          "output_type": "display_data",
          "data": {
            "text/plain": [
              "<Figure size 800x800 with 2 Axes>"
            ],
            "image/png": "[encoded data removed]"
          },
          "metadata": {}
        }
      ]
    },
    {
      "cell_type": "code",
      "source": [
        "import matplotlib.pyplot as plt\n",
        "plt.figure(figsize=(15,6))\n",
        "plt.hist(falcon_results['falcon_option'])\n",
        "plt.hist(falcon_results['expected_option'])\n",
        "labels = ['predicted', 'expected']\n",
        "plt.legend(labels)"
      ],
      "metadata": {
        "colab": {
          "base_uri": "https://localhost:8080/",
          "height": 431
        },
        "id": "toYC9uByCvfR",
        "outputId": "9214af57-cfaf-4407-d683-66a6d147c497"
      },
      "execution_count": null,
      "outputs": [
        {
          "output_type": "execute_result",
          "data": {
            "text/plain": [
              "<matplotlib.legend.Legend at 0x7b00c5a0fac0>"
            ]
          },
          "metadata": {},
          "execution_count": 73
        },
        {
          "output_type": "display_data",
          "data": {
            "text/plain": [
              "<Figure size 1500x600 with 1 Axes>"
            ],
            "image/png": "[encoded data removed]"
          },
          "metadata": {}
        }
      ]
    },
    {
      "cell_type": "code",
      "source": [
        "falcon_results['question'] = qa_data['question']"
      ],
      "metadata": {
        "id": "VWghFA0CHjeL"
      },
      "execution_count": null,
      "outputs": []
    },
    {
      "cell_type": "code",
      "source": [
        "falcon_results['question_length'] = falcon_results['question'].apply(lambda x:len(x))\n",
        "falcon_results['question_length'].value_counts()\n"
      ],
      "metadata": {
        "colab": {
          "base_uri": "https://localhost:8080/"
        },
        "id": "JKakycGdELI0",
        "outputId": "a1aa8712-9985-4d2e-cdbf-a984e57df8be"
      },
      "execution_count": null,
      "outputs": [
        {
          "output_type": "execute_result",
          "data": {
            "text/plain": [
              "2     717\n",
              "1     466\n",
              "3     411\n",
              "4      79\n",
              "5      22\n",
              "6       3\n",
              "7       2\n",
              "8       2\n",
              "11      1\n",
              "10      1\n",
              "9       1\n",
              "0       1\n",
              "Name: question_length, dtype: int64"
            ]
          },
          "metadata": {},
          "execution_count": 97
        }
      ]
    },
    {
      "cell_type": "code",
      "source": [
        "plt.hist(falcon_results['question_length'][falcon_results['falcon_option']!=falcon_results['expected_option']])\n",
        "plt.hist(falcon_results['question_length'][falcon_results['falcon_option']==falcon_results['expected_option']])\n",
        "labels = ['not equal', 'equal']\n",
        "plt.legend(labels)"
      ],
      "metadata": {
        "colab": {
          "base_uri": "https://localhost:8080/",
          "height": 447
        },
        "id": "_1iGAmBvHYwE",
        "outputId": "405ab8a0-6bbf-4c9a-976e-dc65d6dc2461"
      },
      "execution_count": null,
      "outputs": [
        {
          "output_type": "execute_result",
          "data": {
            "text/plain": [
              "<matplotlib.legend.Legend at 0x7b00c55322f0>"
            ]
          },
          "metadata": {},
          "execution_count": 98
        },
        {
          "output_type": "display_data",
          "data": {
            "text/plain": [
              "<Figure size 640x480 with 1 Axes>"
            ],
            "image/png": "[encoded data removed]"
          },
          "metadata": {}
        }
      ]
    },
    {
      "cell_type": "code",
      "source": [
        "falcon_results.to_csv('Falcon_26thJul.csv')"
      ],
      "metadata": {
        "id": "7W8IEWZHhO6m"
      },
      "execution_count": null,
      "outputs": []
    },
    {
      "cell_type": "markdown",
      "source": [
        "# Medalpaca"
      ],
      "metadata": {
        "id": "koOaFRT5hCoP"
      }
    },
    {
      "cell_type": "code",
      "source": [
        "import pandas as pd\n",
        "# medalpaca_results = pd.read_csv('/content/drive/MyDrive/Medalpaca_results_20Jul.csv')\n",
        "medalpaca_results = pd.read_csv('/content/drive/MyDrive/Medalpaca_results_26Jul.csv')\n",
        "from IPython.display import clear_output\n"
      ],
      "metadata": {
        "id": "HBcPgXMcg7ps"
      },
      "execution_count": null,
      "outputs": []
    },
    {
      "cell_type": "code",
      "source": [
        "import re\n",
        "def medalpaca_result(gen_text):\n",
        "  # print (gen_text)\n",
        "  answer = (gen_text.split(':'))[1]\n",
        "  answer = answer.replace('\"}]','')\n",
        "  opt = re.split('\\.', answer)[0]\n",
        "  return answer, opt"
      ],
      "metadata": {
        "id": "zDoeBEEZmIEu"
      },
      "execution_count": null,
      "outputs": []
    },
    {
      "cell_type": "code",
      "source": [
        "medalpaca_result(medalpaca_results['medalpaca_answers'][1])"
      ],
      "metadata": {
        "colab": {
          "base_uri": "https://localhost:8080/"
        },
        "id": "0_Xjim5wm9_F",
        "outputId": "cb4b67be-0a18-49ae-9e55-ceea0f12656b"
      },
      "execution_count": null,
      "outputs": [
        {
          "output_type": "execute_result",
          "data": {
            "text/plain": [
              "('\"d. Cushings disease.', '\"d')"
            ]
          },
          "metadata": {},
          "execution_count": 9
        }
      ]
    },
    {
      "cell_type": "code",
      "source": [
        "# options_list,ans_list  = [], []\n",
        "for i,row in medalpaca_results.iloc[1369:].iterrows():\n",
        "  ans_value, ans_opt = medalpaca_result(row['medalpaca_answers'])\n",
        "  ans_list.append(ans_value)\n",
        "  options_list.append(ans_opt)\n",
        "  # print(temp_value)\n",
        "print (len(options_list), len(ans_list))"
      ],
      "metadata": {
        "colab": {
          "base_uri": "https://localhost:8080/"
        },
        "id": "uvx8IM_Vv81Y",
        "outputId": "6a274351-c093-448e-9e75-f9f2b1464e49"
      },
      "execution_count": null,
      "outputs": [
        {
          "output_type": "stream",
          "name": "stdout",
          "text": [
            "1705 1705\n"
          ]
        }
      ]
    },
    {
      "cell_type": "code",
      "source": [
        "medalpaca_results['medalpaca_ans'] = ''\n",
        "medalpaca_results['medalpaca_ans'].iloc[:1368] = ans_list[:1368]\n",
        "medalpaca_results['medalpaca_ans'].iloc[1368] = ''\n",
        "medalpaca_results['medalpaca_ans'].iloc[1369:] = ans_list[1368:]\n",
        "\n",
        "medalpaca_results['medalpaca_option'] = ''\n",
        "medalpaca_results['medalpaca_option'].iloc[:1368] = options_list[:1368]\n",
        "medalpaca_results['medalpaca_option'].iloc[1368] = ''\n",
        "medalpaca_results['medalpaca_option'].iloc[1369:] = options_list[1368:]\n",
        "\n",
        "clear_output()"
      ],
      "metadata": {
        "id": "fTbndPGwyqRh"
      },
      "execution_count": null,
      "outputs": []
    },
    {
      "cell_type": "code",
      "source": [
        "medalpaca_results['medalpaca_option'] = medalpaca_results['medalpaca_option'].apply(lambda x:x.strip('\"'))\n",
        "medalpaca_results['medalpaca_option'].iloc[390] = 'e'\n",
        "medalpaca_results['medalpaca_option'].iloc[1007] = 'c'\n",
        "medalpaca_results['medalpaca_option'].iloc[1679] = 'a'\n",
        "medalpaca_results['medalpaca_option'][medalpaca_results['medalpaca_option']=='the radial nerve'] = 'a'\n",
        "medalpaca_results['medalpaca_option'][medalpaca_results['medalpaca_option']=='the median nerve'] = 'd'\n",
        "medalpaca_results['medalpaca_option'][medalpaca_results['medalpaca_option']=='PTSD'] = 'b'\n",
        "medalpaca_results['medalpaca_option'][medalpaca_results['medalpaca_option']=='clopidogrel and statin'] = 'd'\n",
        "medalpaca_results['medalpaca_option'][medalpaca_results['medalpaca_option']=='the axillary nerve'] = 'a'\n",
        "medalpaca_results['medalpaca_option'][medalpaca_results['medalpaca_option']=='aortic dissection'] = 'b'\n",
        "medalpaca_results['medalpaca_option'][medalpaca_results['medalpaca_option']=='CEREBELLUM'] = 'b'\n",
        "medalpaca_results['medalpaca_option'][medalpaca_results['medalpaca_option']=='- A'] = 'a'\n",
        "medalpaca_results['medalpaca_option'][medalpaca_results['medalpaca_option']=='- D'] = 'd'\n",
        "medalpaca_results['medalpaca_option'][medalpaca_results['medalpaca_option']=='- C'] = 'c'\n",
        "medalpaca_results['medalpaca_option'][medalpaca_results['medalpaca_option']==''] = 'None'\n",
        "\n",
        "clear_output()\n",
        "medalpaca_results['medalpaca_option'] = medalpaca_results['medalpaca_option'].apply(lambda x:x.upper())\n",
        "\n",
        "medalpaca_results['medalpaca_option'].value_counts()"
      ],
      "metadata": {
        "colab": {
          "base_uri": "https://localhost:8080/"
        },
        "id": "p030yMeEz98a",
        "outputId": "c3b5d235-7f11-44ef-aa52-b9f8a6a26726"
      },
      "execution_count": null,
      "outputs": [
        {
          "output_type": "execute_result",
          "data": {
            "text/plain": [
              "A       819\n",
              "D       383\n",
              "C       207\n",
              "B       158\n",
              "NONE     87\n",
              "E        50\n",
              "F         1\n",
              "G         1\n",
              "Name: medalpaca_option, dtype: int64"
            ]
          },
          "metadata": {},
          "execution_count": 25
        }
      ]
    },
    {
      "cell_type": "code",
      "source": [
        "print (medalpaca_results['medalpaca_option'].items())"
      ],
      "metadata": {
        "colab": {
          "base_uri": "https://localhost:8080/"
        },
        "id": "EzwO1GlKtVvh",
        "outputId": "db79e3e6-77c7-4b73-cca1-6d7634c0d464"
      },
      "execution_count": null,
      "outputs": [
        {
          "output_type": "stream",
          "name": "stdout",
          "text": [
            "<zip object at 0x7fbb8c6c1a40>\n"
          ]
        }
      ]
    },
    {
      "cell_type": "code",
      "source": [
        "temp = pd.read_csv('/content/Falcon_results_consolidated_24Jul.csv')\n",
        "medalpaca_results['expected_option'] = temp['expected_option']\n",
        "medalpaca_results['expected_option'][medalpaca_results['expected_option']=='[]'] = 'None'\n",
        "\n",
        "medalpaca_results['expected_option'].value_counts()"
      ],
      "metadata": {
        "colab": {
          "base_uri": "https://localhost:8080/"
        },
        "id": "yEVUTutn1-lO",
        "outputId": "06675be3-b966-4246-b03f-953a36d25214"
      },
      "execution_count": null,
      "outputs": [
        {
          "output_type": "stream",
          "name": "stderr",
          "text": [
            "<ipython-input-26-1b5da92fe9cf>:3: SettingWithCopyWarning: \n",
            "A value is trying to be set on a copy of a slice from a DataFrame\n",
            "\n",
            "See the caveats in the documentation: https://pandas.pydata.org/pandas-docs/stable/user_guide/indexing.html#returning-a-view-versus-a-copy\n",
            "  medalpaca_results['expected_option'][medalpaca_results['expected_option']=='[]'] = 'None'\n"
          ]
        },
        {
          "output_type": "execute_result",
          "data": {
            "text/plain": [
              "A       446\n",
              "B       413\n",
              "C       334\n",
              "D       283\n",
              "E       192\n",
              "F        11\n",
              "None      7\n",
              "G         5\n",
              "H         4\n",
              "J         4\n",
              "I         3\n",
              "C,D       1\n",
              "A,C       1\n",
              "US        1\n",
              "ALL       1\n",
              "Name: expected_option, dtype: int64"
            ]
          },
          "metadata": {},
          "execution_count": 26
        }
      ]
    },
    {
      "cell_type": "code",
      "source": [
        "\n",
        "cm = confusion_matrix(medalpaca_results['expected_option'], medalpaca_results['medalpaca_option'])\n",
        "\n",
        "fig = plt.figure(figsize = (8,8))\n",
        "ax = fig.add_subplot(111)\n",
        "sns.heatmap(cm, annot=True, fmt='g', ax=ax);  #annot=True to annotate cells, ftm='g' to disable scientific notation\n",
        "\n",
        "# labels, title and ticks\n",
        "ax.set_xlabel('Predicted labels')\n",
        "ax.set_ylabel('True labels')\n",
        "ax.set_title('Confusion Matrix')\n",
        "ax.xaxis.set_ticklabels(['A','B','C','D','E','F','G','H','I','J','NONE','C,D','A,C','US','ALL', '[]'])\n",
        "ax.yaxis.set_ticklabels(['A','B','C','D','E','F','G','H','I','J','NONE','C,D','A,C','US','ALL', '[]']);\n",
        "\n",
        "\n",
        "\n",
        "# plt.figure(figsize = (6,6))\n",
        "# sns.heatmap(cm, annot=True, cbar=False)\n",
        "# ax.xaxis.set_ticklabels(['business', 'health']); ax.yaxis.set_ticklabels(['health', 'business']);\n",
        "# plt.xlabel(\"predicted\")\n",
        "# plt.ylabel(\"true\")"
      ],
      "metadata": {
        "colab": {
          "base_uri": "https://localhost:8080/",
          "height": 718
        },
        "id": "1RohfZ3sBQ7E",
        "outputId": "041c922d-f6c6-4b41-97bd-bfa225424bb8"
      },
      "execution_count": null,
      "outputs": [
        {
          "output_type": "display_data",
          "data": {
            "text/plain": [
              "<Figure size 800x800 with 2 Axes>"
            ],
            "image/png": "[encoded data removed]"
          },
          "metadata": {}
        }
      ]
    },
    {
      "cell_type": "code",
      "source": [
        "medalpaca_results['medalpaca_answers'][0]"
      ],
      "metadata": {
        "colab": {
          "base_uri": "https://localhost:8080/",
          "height": 35
        },
        "id": "jTrfw_50ElD0",
        "outputId": "498cb50a-e6f3-4aa6-def7-bf31ccbd7758"
      },
      "execution_count": null,
      "outputs": [
        {
          "output_type": "execute_result",
          "data": {
            "text/plain": [
              "'[{\"generated_text\":\"c. MRI.\"}]'"
            ],
            "application/vnd.google.colaboratory.intrinsic+json": {
              "type": "string"
            }
          },
          "metadata": {},
          "execution_count": 142
        }
      ]
    },
    {
      "cell_type": "code",
      "source": [
        "from sklearn.metrics import accuracy_score\n",
        "print (accuracy_score(medalpaca_results['expected_option'], medalpaca_results['medalpaca_option']))"
      ],
      "metadata": {
        "colab": {
          "base_uri": "https://localhost:8080/"
        },
        "id": "PTuhq2qv76lC",
        "outputId": "6cf8d1b4-eda6-404e-8c51-59688637d6d4"
      },
      "execution_count": null,
      "outputs": [
        {
          "output_type": "stream",
          "name": "stdout",
          "text": [
            "0.32063305978898005\n"
          ]
        }
      ]
    },
    {
      "cell_type": "code",
      "source": [
        "import matplotlib.pyplot as plt\n",
        "plt.figure(figsize=(15,6))\n",
        "plt.hist(medalpaca_results['medalpaca_option'])\n",
        "plt.hist(medalpaca_results['expected_option'])\n",
        "labels = ['predicted', 'expected']\n",
        "plt.legend(labels)"
      ],
      "metadata": {
        "colab": {
          "base_uri": "https://localhost:8080/",
          "height": 434
        },
        "id": "OVcEb17YEyn_",
        "outputId": "e3636fc0-a298-4372-95cb-7db7905d6e86"
      },
      "execution_count": null,
      "outputs": [
        {
          "output_type": "execute_result",
          "data": {
            "text/plain": [
              "<matplotlib.legend.Legend at 0x7b00c5463490>"
            ]
          },
          "metadata": {},
          "execution_count": 114
        },
        {
          "output_type": "display_data",
          "data": {
            "text/plain": [
              "<Figure size 1500x600 with 1 Axes>"
            ],
            "image/png": "[encoded data removed]"
          },
          "metadata": {}
        }
      ]
    },
    {
      "cell_type": "code",
      "source": [
        "medalpaca_results['question'] = qa_data['question'].copy()\n",
        "medalpaca_results['question_length'] = medalpaca_results['question'].apply(lambda x:len(x))\n",
        "plt.hist(medalpaca_results['question_length'][medalpaca_results['medalpaca_option']!=medalpaca_results['expected_option']])\n",
        "plt.hist(medalpaca_results['question_length'][medalpaca_results['medalpaca_option']==medalpaca_results['expected_option']])\n",
        "labels = ['not equal', 'equal']\n",
        "plt.legend(labels)"
      ],
      "metadata": {
        "colab": {
          "base_uri": "https://localhost:8080/",
          "height": 447
        },
        "id": "WgoJq_lEE6aU",
        "outputId": "5548689d-2fa7-4eab-e53b-d59afcfed5ee"
      },
      "execution_count": null,
      "outputs": [
        {
          "output_type": "execute_result",
          "data": {
            "text/plain": [
              "<matplotlib.legend.Legend at 0x7b00c5709f60>"
            ]
          },
          "metadata": {},
          "execution_count": 116
        },
        {
          "output_type": "display_data",
          "data": {
            "text/plain": [
              "<Figure size 640x480 with 1 Axes>"
            ],
            "image/png": "[encoded data removed]"
          },
          "metadata": {}
        }
      ]
    },
    {
      "cell_type": "code",
      "source": [
        "medalpaca_results.to_csv('medalpaca_26thJul.csv')"
      ],
      "metadata": {
        "id": "W6jPrdJchEN4"
      },
      "execution_count": null,
      "outputs": []
    },
    {
      "cell_type": "markdown",
      "source": [
        "# Mean Reciprocal Rank"
      ],
      "metadata": {
        "id": "B3-3_LTz93YF"
      }
    },
    {
      "cell_type": "code",
      "source": [
        "!"
      ],
      "metadata": {
        "id": "ekNR7daWCFjb"
      },
      "execution_count": null,
      "outputs": []
    },
    {
      "cell_type": "code",
      "source": [
        "# !pip install gensim\n",
        "!pip install nltk\n",
        "!pip install sent2vec\n",
        "\n",
        "clear_output()"
      ],
      "metadata": {
        "id": "Z_AXQATsY7tk"
      },
      "execution_count": null,
      "outputs": []
    },
    {
      "cell_type": "code",
      "source": [
        "import sent2vec\n",
        "from nltk import word_tokenize\n",
        "from nltk.corpus import stopwords\n",
        "from string import punctuation\n",
        "from scipy.spatial import distance"
      ],
      "metadata": {
        "id": "vZn6s0kZy7d7"
      },
      "execution_count": null,
      "outputs": []
    },
    {
      "cell_type": "code",
      "source": [
        "from gensim.models import KeyedVectors\n",
        "model = KeyedVectors.load_word2vec_format(filename, binary=True)"
      ],
      "metadata": {
        "colab": {
          "base_uri": "https://localhost:8080/",
          "height": 183
        },
        "id": "IgeM9Ysq1TBt",
        "outputId": "dd186d6b-22c4-466f-a59e-7386b11c8f13"
      },
      "execution_count": null,
      "outputs": [
        {
          "output_type": "error",
          "ename": "NameError",
          "evalue": "ignored",
          "traceback": [
            "\u001b[0;31m---------------------------------------------------------------------------\u001b[0m",
            "\u001b[0;31mNameError\u001b[0m                                 Traceback (most recent call last)",
            "\u001b[0;32m<ipython-input-6-1703f878b157>\u001b[0m in \u001b[0;36m<cell line: 2>\u001b[0;34m()\u001b[0m\n\u001b[1;32m      1\u001b[0m \u001b[0;32mfrom\u001b[0m \u001b[0mgensim\u001b[0m\u001b[0;34m.\u001b[0m\u001b[0mmodels\u001b[0m \u001b[0;32mimport\u001b[0m \u001b[0mKeyedVectors\u001b[0m\u001b[0;34m\u001b[0m\u001b[0;34m\u001b[0m\u001b[0m\n\u001b[0;32m----> 2\u001b[0;31m \u001b[0mmodel\u001b[0m \u001b[0;34m=\u001b[0m \u001b[0mKeyedVectors\u001b[0m\u001b[0;34m.\u001b[0m\u001b[0mload_word2vec_format\u001b[0m\u001b[0;34m(\u001b[0m\u001b[0mfilename\u001b[0m\u001b[0;34m,\u001b[0m \u001b[0mbinary\u001b[0m\u001b[0;34m=\u001b[0m\u001b[0;32mTrue\u001b[0m\u001b[0;34m)\u001b[0m\u001b[0;34m\u001b[0m\u001b[0;34m\u001b[0m\u001b[0m\n\u001b[0m",
            "\u001b[0;31mNameError\u001b[0m: name 'filename' is not defined"
          ]
        }
      ]
    },
    {
      "cell_type": "code",
      "source": [
        "model_path = YOUR_MODEL_LOCATION\n",
        "model = sent2vec.Sent2vecModel()\n",
        "try:\n",
        "    model.load_model(model_path)\n",
        "except Exception as e:\n",
        "    print(e)\n",
        "print('model successfully loaded')"
      ],
      "metadata": {
        "id": "Z7lP0c8gg6MH"
      },
      "execution_count": null,
      "outputs": []
    }
  ]
}